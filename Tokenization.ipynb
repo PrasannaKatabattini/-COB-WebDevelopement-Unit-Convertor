{
  "nbformat": 4,
  "nbformat_minor": 0,
  "metadata": {
    "colab": {
      "provenance": [],
      "authorship_tag": "ABX9TyNqBtXWyJz20n/nuOZ4dqNf",
      "include_colab_link": true
    },
    "kernelspec": {
      "name": "python3",
      "display_name": "Python 3"
    },
    "language_info": {
      "name": "python"
    }
  },
  "cells": [
    {
      "cell_type": "markdown",
      "metadata": {
        "id": "view-in-github",
        "colab_type": "text"
      },
      "source": [
        "<a href=\"https://colab.research.google.com/github/PrasannaKatabattini/-COB-WebDevelopement-Unit-Convertor/blob/main/Tokenization.ipynb\" target=\"_parent\"><img src=\"https://colab.research.google.com/assets/colab-badge.svg\" alt=\"Open In Colab\"/></a>"
      ]
    },
    {
      "cell_type": "code",
      "execution_count": 10,
      "metadata": {
        "colab": {
          "base_uri": "https://localhost:8080/"
        },
        "id": "Lh2uQVRCYW-q",
        "outputId": "f15c1409-3d31-4de3-93ab-5d2c68eb1508"
      },
      "outputs": [
        {
          "output_type": "stream",
          "name": "stdout",
          "text": [
            "Requirement already satisfied: nltk in /usr/local/lib/python3.11/dist-packages (3.9.1)\n",
            "Requirement already satisfied: click in /usr/local/lib/python3.11/dist-packages (from nltk) (8.1.8)\n",
            "Requirement already satisfied: joblib in /usr/local/lib/python3.11/dist-packages (from nltk) (1.4.2)\n",
            "Requirement already satisfied: regex>=2021.8.3 in /usr/local/lib/python3.11/dist-packages (from nltk) (2024.11.6)\n",
            "Requirement already satisfied: tqdm in /usr/local/lib/python3.11/dist-packages (from nltk) (4.67.1)\n"
          ]
        }
      ],
      "source": [
        "pip install nltk\n"
      ]
    },
    {
      "cell_type": "code",
      "source": [
        "import nltk\n",
        "nltk.download('punkt_tab')"
      ],
      "metadata": {
        "colab": {
          "base_uri": "https://localhost:8080/"
        },
        "id": "O3y32Ryqa3n_",
        "outputId": "44e148cc-26ea-4536-90d4-f513233a1d8d"
      },
      "execution_count": 24,
      "outputs": [
        {
          "output_type": "stream",
          "name": "stderr",
          "text": [
            "[nltk_data] Downloading package punkt_tab to /root/nltk_data...\n",
            "[nltk_data]   Unzipping tokenizers/punkt_tab.zip.\n"
          ]
        },
        {
          "output_type": "execute_result",
          "data": {
            "text/plain": [
              "True"
            ]
          },
          "metadata": {},
          "execution_count": 24
        }
      ]
    },
    {
      "cell_type": "code",
      "source": [
        "corpus=\"\"\"Hello im prasanna currently studing. btech final year in RVR & JC COllege of ENgineeering. Im a student. I love to learn new technologies\"\"\""
      ],
      "metadata": {
        "id": "3CCu_j1OZlo3"
      },
      "execution_count": 36,
      "outputs": []
    },
    {
      "cell_type": "code",
      "source": [
        "corpus\n"
      ],
      "metadata": {
        "colab": {
          "base_uri": "https://localhost:8080/",
          "height": 54
        },
        "id": "dP6q2y54ZlrJ",
        "outputId": "eb21c6a8-befc-4ad3-c179-2e2617b32428"
      },
      "execution_count": 37,
      "outputs": [
        {
          "output_type": "execute_result",
          "data": {
            "text/plain": [
              "'Hello im prasanna currently studing. btech final year in RVR & JC COllege of ENgineeering. Im a student. I love to learn new technologies'"
            ],
            "application/vnd.google.colaboratory.intrinsic+json": {
              "type": "string"
            }
          },
          "metadata": {},
          "execution_count": 37
        }
      ]
    },
    {
      "cell_type": "code",
      "source": [
        "### Tokenization\n",
        "from nltk.tokenize import sent_tokenize\n"
      ],
      "metadata": {
        "id": "5NXEav5yZ8J0"
      },
      "execution_count": 38,
      "outputs": []
    },
    {
      "cell_type": "code",
      "source": [
        "sentence=sent_tokenize(corpus)\n",
        "# type(sentence)\n",
        "for i in sentence:\n",
        "  print(i)\n"
      ],
      "metadata": {
        "colab": {
          "base_uri": "https://localhost:8080/"
        },
        "id": "4lkMsx-OZ8Lz",
        "outputId": "c2128578-46b4-43b7-b59a-88115109b40e"
      },
      "execution_count": 47,
      "outputs": [
        {
          "output_type": "stream",
          "name": "stdout",
          "text": [
            "Hello im prasanna currently studing.\n",
            "btech final year in RVR & JC COllege of ENgineeering.\n",
            "Im a student.\n",
            "I love to learn new technologies\n"
          ]
        }
      ]
    },
    {
      "cell_type": "code",
      "source": [
        "#Tokenization\n",
        "#Senetence->words\n",
        "from nltk.tokenize import word_tokenize\n",
        "word_tokenize(corpus)"
      ],
      "metadata": {
        "colab": {
          "base_uri": "https://localhost:8080/"
        },
        "id": "G4XibR6oZ8Nl",
        "outputId": "98e86941-9fd7-4ca2-ec74-4a2105d9d9b3"
      },
      "execution_count": 44,
      "outputs": [
        {
          "output_type": "execute_result",
          "data": {
            "text/plain": [
              "['Hello',\n",
              " 'im',\n",
              " 'prasanna',\n",
              " 'currently',\n",
              " 'studing',\n",
              " '.',\n",
              " 'btech',\n",
              " 'final',\n",
              " 'year',\n",
              " 'in',\n",
              " 'RVR',\n",
              " '&',\n",
              " 'JC',\n",
              " 'COllege',\n",
              " 'of',\n",
              " 'ENgineeering',\n",
              " '.',\n",
              " 'Im',\n",
              " 'a',\n",
              " 'student',\n",
              " '.',\n",
              " 'I',\n",
              " 'love',\n",
              " 'to',\n",
              " 'learn',\n",
              " 'new',\n",
              " 'technologies']"
            ]
          },
          "metadata": {},
          "execution_count": 44
        }
      ]
    },
    {
      "cell_type": "code",
      "source": [
        "from nltk.tokenize import wordpunct_tokenize\n",
        "wordpunct_tokenize(corpus)"
      ],
      "metadata": {
        "colab": {
          "base_uri": "https://localhost:8080/"
        },
        "id": "bNxRdAAzZ8PO",
        "outputId": "3f871d48-e462-4dc6-9d3a-503e97218dc8"
      },
      "execution_count": 48,
      "outputs": [
        {
          "output_type": "execute_result",
          "data": {
            "text/plain": [
              "['Hello',\n",
              " 'im',\n",
              " 'prasanna',\n",
              " 'currently',\n",
              " 'studing',\n",
              " '.',\n",
              " 'btech',\n",
              " 'final',\n",
              " 'year',\n",
              " 'in',\n",
              " 'RVR',\n",
              " '&',\n",
              " 'JC',\n",
              " 'COllege',\n",
              " 'of',\n",
              " 'ENgineeering',\n",
              " '.',\n",
              " 'Im',\n",
              " 'a',\n",
              " 'student',\n",
              " '.',\n",
              " 'I',\n",
              " 'love',\n",
              " 'to',\n",
              " 'learn',\n",
              " 'new',\n",
              " 'technologies']"
            ]
          },
          "metadata": {},
          "execution_count": 48
        }
      ]
    },
    {
      "cell_type": "code",
      "source": [
        "from nltk.tokenize import TreebankWordTokenizer\n",
        "tokenizer=TreebankWordTokenizer()\n",
        "tokenizer.tokenize(corpus)"
      ],
      "metadata": {
        "colab": {
          "base_uri": "https://localhost:8080/"
        },
        "id": "YDKDbcolZ8S1",
        "outputId": "328a5268-e832-47c6-a286-f41547d2550f"
      },
      "execution_count": 49,
      "outputs": [
        {
          "output_type": "execute_result",
          "data": {
            "text/plain": [
              "['Hello',\n",
              " 'im',\n",
              " 'prasanna',\n",
              " 'currently',\n",
              " 'studing.',\n",
              " 'btech',\n",
              " 'final',\n",
              " 'year',\n",
              " 'in',\n",
              " 'RVR',\n",
              " '&',\n",
              " 'JC',\n",
              " 'COllege',\n",
              " 'of',\n",
              " 'ENgineeering.',\n",
              " 'Im',\n",
              " 'a',\n",
              " 'student.',\n",
              " 'I',\n",
              " 'love',\n",
              " 'to',\n",
              " 'learn',\n",
              " 'new',\n",
              " 'technologies']"
            ]
          },
          "metadata": {},
          "execution_count": 49
        }
      ]
    },
    {
      "cell_type": "code",
      "source": [],
      "metadata": {
        "id": "IsNE4aMqZluj"
      },
      "execution_count": null,
      "outputs": []
    }
  ]
}
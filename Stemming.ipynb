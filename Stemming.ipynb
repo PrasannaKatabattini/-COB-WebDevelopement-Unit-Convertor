{
  "nbformat": 4,
  "nbformat_minor": 0,
  "metadata": {
    "colab": {
      "private_outputs": true,
      "provenance": [],
      "authorship_tag": "ABX9TyPSJxou3mEs/iJWxGwaIcUa",
      "include_colab_link": true
    },
    "kernelspec": {
      "name": "python3",
      "display_name": "Python 3"
    },
    "language_info": {
      "name": "python"
    }
  },
  "cells": [
    {
      "cell_type": "markdown",
      "metadata": {
        "id": "view-in-github",
        "colab_type": "text"
      },
      "source": [
        "<a href=\"https://colab.research.google.com/github/PrasannaKatabattini/-COB-WebDevelopement-Unit-Convertor/blob/main/Stemming.ipynb\" target=\"_parent\"><img src=\"https://colab.research.google.com/assets/colab-badge.svg\" alt=\"Open In Colab\"/></a>"
      ]
    },
    {
      "cell_type": "code",
      "execution_count": null,
      "metadata": {
        "id": "taJ5y0j8l5oS"
      },
      "outputs": [],
      "source": [
        "##Classification Problem\n",
        "## Comments of products is a positive review or negative review\n",
        "## Revies---->eating,eat,eaten[eat]"
      ]
    },
    {
      "cell_type": "code",
      "source": [
        "words=[\"eating\",\"eats\",\"eaten\",\"writing\",\"writes\",\"Programming\",\"programs\"]"
      ],
      "metadata": {
        "id": "xWguXPmmmc7Y"
      },
      "execution_count": null,
      "outputs": []
    },
    {
      "cell_type": "code",
      "source": [
        "#porterStemmer"
      ],
      "metadata": {
        "id": "GY3zxfWcmc9g"
      },
      "execution_count": null,
      "outputs": []
    },
    {
      "cell_type": "markdown",
      "source": [
        "**Porter Stemmer**"
      ],
      "metadata": {
        "id": "tGF7RuLK3OpN"
      }
    },
    {
      "cell_type": "code",
      "source": [
        "from nltk.stem  import PorterStemmer\n",
        "stemming=PorterStemmer()"
      ],
      "metadata": {
        "id": "ia2fjPFumc_B"
      },
      "execution_count": null,
      "outputs": []
    },
    {
      "cell_type": "code",
      "source": [
        "for word in words:\n",
        "  print(word+\"------>\"+stemming.stem(word))"
      ],
      "metadata": {
        "id": "n1P-wMuHmdBJ"
      },
      "execution_count": null,
      "outputs": []
    },
    {
      "cell_type": "markdown",
      "source": [],
      "metadata": {
        "id": "91xpWjvQ1ArI"
      }
    },
    {
      "cell_type": "code",
      "source": [
        "#disadvantage of PorterStemmer\n",
        "print(stemming.stem(\"Congratulations\"))"
      ],
      "metadata": {
        "id": "LkpdN14PmdDO"
      },
      "execution_count": null,
      "outputs": []
    },
    {
      "cell_type": "code",
      "source": [],
      "metadata": {
        "id": "fQ4b7Ql0mdFR"
      },
      "execution_count": null,
      "outputs": []
    },
    {
      "cell_type": "markdown",
      "source": [
        "**RegexpStemmer**\n"
      ],
      "metadata": {
        "id": "bDCEOsG509SH"
      }
    },
    {
      "cell_type": "code",
      "source": [
        "from nltk.stem import RegexpStemmer"
      ],
      "metadata": {
        "id": "DMFJmbCJmdHM"
      },
      "execution_count": null,
      "outputs": []
    },
    {
      "cell_type": "code",
      "source": [
        "reg_stemmer=RegexpStemmer('ing$|s$|e$|able$', min=4)"
      ],
      "metadata": {
        "id": "wXvMciBBmdKz"
      },
      "execution_count": null,
      "outputs": []
    },
    {
      "cell_type": "code",
      "source": [
        "reg_stemmer.stem('eating')"
      ],
      "metadata": {
        "id": "oBWWFlSU1nXm"
      },
      "execution_count": null,
      "outputs": []
    },
    {
      "cell_type": "code",
      "source": [
        "reg_stemmer.stem('prasannable')"
      ],
      "metadata": {
        "id": "Jb-7TFW81nZf"
      },
      "execution_count": null,
      "outputs": []
    },
    {
      "cell_type": "markdown",
      "source": [
        "**Snowball Stemmer**"
      ],
      "metadata": {
        "id": "rE0uI4IH2FfP"
      }
    },
    {
      "cell_type": "code",
      "source": [
        "from nltk.stem import SnowballStemmer"
      ],
      "metadata": {
        "id": "otGm9fNa1nbO"
      },
      "execution_count": null,
      "outputs": []
    },
    {
      "cell_type": "code",
      "source": [
        "snowball=SnowballStemmer('english')\n",
        "for word in words:\n",
        "  print(word+\"------>\"+snowball.stem(word))"
      ],
      "metadata": {
        "id": "_B44-C6P1nde"
      },
      "execution_count": null,
      "outputs": []
    },
    {
      "cell_type": "code",
      "source": [
        "snowball.stem('fairly')"
      ],
      "metadata": {
        "id": "JIDCNdTU1nfV"
      },
      "execution_count": null,
      "outputs": []
    },
    {
      "cell_type": "code",
      "source": [
        "snowball.stem('sportingly')"
      ],
      "metadata": {
        "id": "eixnjWo91ni8"
      },
      "execution_count": null,
      "outputs": []
    }
  ]
}